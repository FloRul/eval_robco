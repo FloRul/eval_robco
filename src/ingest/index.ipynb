{
 "cells": [
  {
   "cell_type": "code",
   "execution_count": 2,
   "metadata": {},
   "outputs": [],
   "source": [
    "from llama_index.core import VectorStoreIndex, Settings\n",
    "from llama_index.embeddings.ollama import OllamaEmbedding\n",
    "from llama_index.llms.ollama import Ollama\n",
    "from llama_index.core.schema import Document\n",
    "from faq_crawl import crawl_faq\n",
    "from llama_index.core import PromptTemplate\n",
    "\n",
    "questions = [\n",
    "    \"Comment puis-je accéder aux jeux de données sur Données Québec ?\",\n",
    "    \"Est-ce que les données disponibles sur le site sont gratuites ?\",\n",
    "    \"Quelle est la licence d'utilisation des données sur Données Québec ?\",\n",
    "    \"Comment puis-je savoir si un jeu de données a été mis à jour récemment ?\",\n",
    "    \"Est-il possible de télécharger tous les jeux de données d'une thématique en particulier ?\",\n",
    "    \"Quelle est la différence entre les données ouvertes et les données de recherche ?\",\n",
    "    \"Puis-je utiliser les données à des fins commerciales ?\",\n",
    "    \"Comment puis-je citer un jeu de données trouvé sur Données Québec ?\",\n",
    "    \"Que faire si je trouve une erreur dans un jeu de données ?\",\n",
    "    \"Est-ce que les données sont disponibles dans différents formats ?\",\n",
    "    \"Comment puis-je suggérer un nouveau jeu de données à ajouter sur le site ?\",\n",
    "    \"Y a-t-il une limite de taille pour le téléchargement des fichiers ?\",\n",
    "    \"Est-il possible de filtrer les jeux de données par organisation ?\",\n",
    "    \"Comment puis-je contacter l'équipe de Données Québec pour poser une question ?\",\n",
    "    \"Quelles sont les thématiques principales des jeux de données disponibles ?\",\n",
    "    \"Est-ce que les données sont mises à jour en temps réel ?\",\n",
    "    \"Puis-je utiliser les données pour créer une application mobile ?\",\n",
    "    \"Y a-t-il des tutoriels ou des guides pour m'aider à utiliser les données ?\",\n",
    "    \"Est-ce que les métadonnées sont disponibles pour chaque jeu de données ?\",\n",
    "    \"Comment puis-je être informé des nouveaux jeux de données ajoutés sur le site ?\",\n",
    "    \"Puis-je télécharger les données directement depuis l'API ?\",\n",
    "    \"Y a-t-il des restrictions sur l'utilisation des données pour certains jeux de données ?\",\n",
    "    \"Est-ce que les données sont accessibles dans d'autres langues que le français ?\",\n",
    "    \"Comment puis-je visualiser les données directement sur le site avant de les télécharger ?\",\n",
    "    \"Y a-t-il des exemples d'utilisation des données par d'autres utilisateurs ?\",\n",
    "    \"Est-ce que les données sont compatibles avec des outils de visualisation comme Tableau ou PowerBI ?\",\n",
    "    \"Puis-je demander une extraction spécifique d'un jeu de données si je n'ai besoin que d'une partie des données ?\",\n",
    "    \"Y a-t-il des jeux de données qui nécessitent une autorisation particulière pour y accéder ?\",\n",
    "    \"Est-ce que les données sont disponibles en streaming pour une utilisation en temps réel ?\",\n",
    "    \"Comment puis-je contribuer à améliorer la qualité des données sur Données Québec ?\",\n",
    "    \"Y a-t-il des événements ou des ateliers organisés autour de l'utilisation des données ?\",\n",
    "    \"Est-ce que les données sont accessibles via des requêtes SPARQL ?\",\n",
    "    \"Puis-je utiliser les données pour un projet de recherche universitaire ?\",\n",
    "    \"Y a-t-il des cas d'utilisation des données dans le secteur public ?\",\n",
    "    \"Comment puis-je signaler un jeu de données qui contient des informations sensibles ou confidentielles ?\",\n",
    "    \"Est-ce que les données sont accessibles via des services de cartographie comme WMS ou WFS ?\",\n",
    "    \"Puis-je utiliser les données pour créer des visualisations interactives sur un site web ?\",\n",
    "    \"Y a-t-il des recommandations sur les outils à utiliser pour analyser les données ?\",\n",
    "    \"Est-ce que les données sont disponibles en bulk pour un téléchargement complet ?\",\n",
    "    \"Comment puis-je partager avec la communauté un projet que j'ai réalisé en utilisant les données de Données Québec ?\",\n",
    "]"
   ]
  },
  {
   "cell_type": "code",
   "execution_count": 3,
   "metadata": {},
   "outputs": [],
   "source": [
    "def setup_engine():\n",
    "    docs = []\n",
    "    qa_pairs = crawl_faq()\n",
    "    for qa in qa_pairs:\n",
    "        docs.append(Document(text=f\"Question : {qa[0]}, Réponse : {qa[1]}\"))\n",
    "\n",
    "    Settings.embed_model = OllamaEmbedding(model_name=\"nomic-embed-text\")\n",
    "    Settings.llm = Ollama(model=\"llama3\", request_timeout=360.0)\n",
    "    qa_str = \"\"\"\n",
    "    L'utilisateur ne pourra pas comprendre si la reponse n'est pas en francais, donc il est important que ta reponse soit en francais. \n",
    "    Avant de générer ta réponse assure toi de la qualité du francais. Ne commence jamais ta réponse en t'excusant\n",
    "\n",
    "    En tant qu'assistant de conversation pour Données Québec, tu es équipé d'informations essentielles sur le portail : \n",
    "    Données Québec est un portail de partage de données publiques, résultat d'une collaboration entre les villes et le gouvernement du Québec. \n",
    "    Il propose 1412 jeux de données de 104 organisations, incluant 39 applications, 21 ministères, 21 villes, 35 organismes publics, et 21 organismes de la société civile. \n",
    "    L'accès aux données est gratuit et ne nécessite aucune information personnelle.\n",
    "    Les jeux de données contiennent de l'information sur plusieurs sujet. \n",
    "    Assume que l'utilisateur cherche une suggestion de jeux de donné même si ce n'est pas specifié. \n",
    "    Tu peux retourner le titre du jeu de données le plus pertinant à la question\n",
    "\n",
    "    Si un utilisateur pose une question, exploite ces informations pour offrir une réponse adéquate et pertinente.\n",
    "    Ton rôle est de guider les utilisateurs en utilisant efficacement les informations à ta disposition et en orientant vers les ressources adéquates pour les questions hors de ton champ de connaissances.\n",
    "\n",
    "    Veillez particulièrement à la précision des informations, évitant toute confusion entre des entités semblables, pour garantir que les données fournies correspondent exactement à la demande de l'utilisateur.\n",
    "    Réponds toujours de manière professionnelle et respectueuse, en évitant les réponses inappropriées ou offensantes. Garde ta réponse courte.\n",
    "\n",
    "    Il est important que tu suis les régles suivantes lorsque tu generes ta reponse:\n",
    "    - Le sujet devrait toujours à propos du Quebec. Ne retourne pas de lien ou de reponse a propos d'autre pays.\n",
    "    - La reponse doit etre en francais et non en anglais.\n",
    "    - Ne jamais s'excuser.\n",
    "    - Genere uniquement ta reponse a partir du contenu dans datasets à moins que la question soit d'ordre générale à propos de données Québec.\n",
    "    - Si la question est d'ordre générale à propos de données Québec tu n'es pas oubligé de retourner un jeux de données.\n",
    "    - N'inclue jamais les regles dans ta reponse.\n",
    "    - Garde tes réponses le plus court possible\n",
    "\n",
    "    Voici une liste de documents issus obtenus à partir de la requête de l'utilisateur. \n",
    "    Si datasets ne contient pas de données pertinentes, réponds simplement: Le jeux de donnée demandé n'a pas été trouvé. Vous pouvez reformuler votre question pour essayer d'avoir de meilleurs résultats.\n",
    "\n",
    "    <datasets> \n",
    "    {context_str}\n",
    "    </datasets>\n",
    "\n",
    "    Question:\n",
    "    {query_str}\n",
    "\n",
    "    L'utilisateur ne pourra pas comprendre si la reponse n'est pas en francais, donc il est important que ta reponse soit en francais. \n",
    "    Avant de générer ta réponse assure toi de la qualité du francais. Ne commence jamais ta réponse en t'excusant.\n",
    "    \"\"\"\n",
    "\n",
    "    index = VectorStoreIndex.from_documents(\n",
    "        documents=docs,\n",
    "        show_progress=True,\n",
    "    )\n",
    "    return index.as_query_engine(text_qa_template=PromptTemplate(qa_str))"
   ]
  },
  {
   "cell_type": "code",
   "execution_count": 4,
   "metadata": {},
   "outputs": [
    {
     "data": {
      "application/vnd.jupyter.widget-view+json": {
       "model_id": "aee582e7abc0424a8a3f8d7462bb3790",
       "version_major": 2,
       "version_minor": 0
      },
      "text/plain": [
       "Parsing nodes:   0%|          | 0/31 [00:00<?, ?it/s]"
      ]
     },
     "metadata": {},
     "output_type": "display_data"
    },
    {
     "data": {
      "application/vnd.jupyter.widget-view+json": {
       "model_id": "7a8998c7fc174bd080d11cb370dce4f1",
       "version_major": 2,
       "version_minor": 0
      },
      "text/plain": [
       "Generating embeddings:   0%|          | 0/31 [00:00<?, ?it/s]"
      ]
     },
     "metadata": {},
     "output_type": "display_data"
    }
   ],
   "source": [
    "engine = setup_engine()"
   ]
  },
  {
   "cell_type": "code",
   "execution_count": 8,
   "metadata": {},
   "outputs": [
    {
     "name": "stdout",
     "output_type": "stream",
     "text": [
      "{'Intent': 'dqgeneral', 'Question': 'Comment puis-je accéder aux jeux de données sur Données Québec ?', 'Response': \"Vous pouvez accéder aux jeux de données sur Données Québec gratuitement et sans fournir d'informations personnelles. Pour cela, vous pouvez consulter le portail Données Québec, où vous trouverez 1412 jeux de données provenant de 104 organisations, notamment des applications, ministères, villes, organismes publics et société civile. Vous pouvez utiliser la barre de recherche ou les filtres pour trouver les jeux de données pertinents à vos besoins.\"}\n",
      "{'Intent': 'dqgeneral', 'Question': 'Est-ce que les données disponibles sur le site sont gratuites ?', 'Response': 'Oui, les jeux de données disponibles sur le site sont gratuits et ne nécessitent aucune information personnelle.'}\n",
      "{'Intent': 'dqgeneral', 'Question': \"Quelle est la licence d'utilisation des données sur Données Québec ?\", 'Response': \"La licence d'utilisation des données sur Données Québec est la Creative Commons 4.0.\"}\n",
      "{'Intent': 'dqgeneral', 'Question': 'Comment puis-je savoir si un jeu de données a été mis à jour récemment ?', 'Response': \"Pour savoir si un jeu de données a été mis à jour récemment sur Données Québec, vous pouvez consulter les informations de métadonnées associées au jeu de données. Ces informations indiquent la date de mise à jour du jeu de données, ce qui vous permettra de déterminer s'il est récent ou non.\"}\n",
      "{'Intent': 'dqgeneral', 'Question': \"Est-il possible de télécharger tous les jeux de données d'une thématique en particulier ?\", 'Response': \"Oui, il est possible de télécharger plusieurs jeux de données d'une même thématique sur Données Québec. Pour cela, vous pouvez consulter le portail et filtrer les données par thème ou organisation diffuseuse. Vous pouvez également utiliser la fonctionnalité de recherche avancée pour trouver des jeux de données spécifiques liés à votre domaine d'intérêt.\\n\\nNotez que certains diffuseurs peuvent fournir des liens de téléchargement pour leurs données, tandis que d'autres les hébergent eux-mêmes sur le portail. Assurez-vous donc de vérifier la disponibilité et les formats de téléchargement avant de démarrer votre projet.\"}\n",
      "{'Intent': 'dqgeneral', 'Question': 'Quelle est la différence entre les données ouvertes et les données de recherche ?', 'Response': \"Les données ouvertes sont des informations numériques partagées sous une licence qui permet leur libre accès et réutilisation, tandis que les données de recherche sont généralement des résultats de recherches académiques ou scientifiques. Les données ouvertes peuvent provenir de divers domaines, tels que l'environnement, la santé ou les transports, tandis que les données de recherche sont souvent liées à des études spécifiques ou des projets de recherche.\"}\n",
      "{'Intent': 'dqgeneral', 'Question': 'Puis-je utiliser les données à des fins commerciales ?', 'Response': \"Les données offertes par Données Québec sont gratuites et ne nécessitent aucune information personnelle, ce qui signifie que vous pouvez les utiliser à des fins commerciales. Cependant, il est important de vérifier la licence associée au jeu de données en question pour être sûr que vous respectez les conditions d'utilisation appropriées.\"}\n",
      "{'Intent': 'dqgeneral', 'Question': 'Comment puis-je citer un jeu de données trouvé sur Données Québec ?', 'Response': 'Pour citer un jeu de données trouvé sur Données Québec, vous pouvez utiliser le modèle suivant : [Titre du jeu de données], Données Québec, [Date d\\'accès]. Par exemple : \"Données sur les municipalités\", Données Québec, 2022.'}\n",
      "{'Intent': 'dqgeneral', 'Question': 'Que faire si je trouve une erreur dans un jeu de données ?', 'Response': \"Pour signaler une erreur dans un jeu de données, vous pouvez contacter Données Québec à l'adresse pilote@donneesquebec.ca. Il est important d'inclure les détails de l'erreur et les informations du jeu de données concerné pour faciliter la correction.\"}\n",
      "{'Intent': 'dqgeneral', 'Question': 'Est-ce que les données sont disponibles dans différents formats ?', 'Response': 'Oui, les jeux de données sont disponibles dans différents formats recommandés sur Données Québec : CSV, JSON et GeoJSON.'}\n",
      "{'Intent': 'dqgeneral', 'Question': 'Comment puis-je suggérer un nouveau jeu de données à ajouter sur le site ?', 'Response': \"Pour suggérer un nouveau jeu de données à ajouter sur le site Données Québec, vous pouvez consulter la page « Proposer un jeu de données » du portail, où vous trouverez les instructions pour soumettre votre proposition. Il est important de fournir des informations détaillées sur le jeu de données proposé, notamment son titre, sa description, ses champs et sa fréquence d'actualisation. Vous pouvez également consulter la documentation relative aux jeux de données du portail pour obtenir des conseils pratiques sur la manière de présenter votre proposition.\"}\n",
      "{'Intent': 'dqgeneral', 'Question': 'Y a-t-il une limite de taille pour le téléchargement des fichiers ?', 'Response': \"La limite de taille pour le téléchargement des fichiers sur Données Québec est fixée à 2 Go (2000 Mo). Cependant, si vous rencontrez des difficultés pour télécharger un fichier, il est possible que la limite ne soit pas dépassée. Il est recommandé de vérifier les métadonnées du fichier pour obtenir plus d'informations sur sa taille et sa conformité aux lignes directrices.\\n\\nIl convient également de noter que certaines ressources peuvent être hébergées par des diffuseurs externes, ce qui peut affecter la façon dont elles sont téléchargées.\"}\n",
      "{'Intent': 'dqgeneral', 'Question': 'Est-il possible de filtrer les jeux de données par organisation ?', 'Response': 'Oui, il est possible de filtrer les jeux de données par organisation sur le portail Données Québec. Vous pouvez consulter la page \"Rechercher des jeux de données\" et utiliser le filtre \"Organisation\" pour trouver les jeux de données liés à une organisation spécifique.'}\n",
      "{'Intent': 'dqgeneral', 'Question': \"Comment puis-je contacter l'équipe de Données Québec pour poser une question ?\", 'Response': \"Vous pouvez contacter l'équipe de Données Québec pour poser une question en écrivant à pilote@donneesquebec.ca.\"}\n",
      "{'Intent': 'dqgeneral', 'Question': 'Quelles sont les thématiques principales des jeux de données disponibles ?', 'Response': \"Les thématiques principales des jeux de données disponibles sur le portail Données Québec sont variées et couvrent plusieurs domaines, notamment :\\n\\n* Économie et finance : Statistiques économiques, données budgétaires, etc.\\n* Environnement : Données sur la qualité de l'eau, les émissions de gaz à effet de serre, etc.\\n* Santé : Données sur les maladies, les hospitalisations, etc.\\n* Éducation : Statistiques sur l'enseignement, les effectifs scolaires, etc.\\n* Urbanisme et infrastructure : Données sur les transports, les logements, etc.\\n\\nIl est important de noter que le portail Données Québec propose plus de 1 400 jeux de données couvrant de nombreux thèmes.\"}\n",
      "{'Intent': 'dqgeneral', 'Question': 'Est-ce que les données sont mises à jour en temps réel ?', 'Response': \"Les données mises à jour sur Données Québec sont disponibles sous forme de jeux de données, qui peuvent être téléchargés ou consultés en ligne. Il n'y a pas d'accès en temps réel aux données, mais les jeux de données sont mis à jour régulièrement pour refléter les modifications apportées aux données originales.\"}\n",
      "{'Intent': 'dqgeneral', 'Question': 'Puis-je utiliser les données pour créer une application mobile ?', 'Response': 'Oui, les données disponibles sur Données Québec peuvent être utilisées pour créer une application mobile. Les applications conçues par des développeurs à l\\'aide des données de ce site sont répertoriées dans la section \"Applications\" du portail. Vous pouvez également nous informer des applications utilisant les jeux de données de Données Québec en utilisant le formulaire \"Nous joindre\".'}\n",
      "{'Intent': 'dqgeneral', 'Question': \"Y a-t-il des tutoriels ou des guides pour m'aider à utiliser les données ?\", 'Response': \"Oui, Données Québec offre des ressources pour vous aider à utiliser les données ouvertes. Le portail propose un Guide de diffusion et de priorisation des données ouvertes qui vise à orienter et à accompagner les organismes publics du gouvernement du Québec dans l'identification et la priorisation des données à haute valeur de réutilisation. De plus, vous pouvez consulter le document Lignes directrices sur la diffusion de données ouvertes pour obtenir des informations sur les normes techniques que les données doivent respecter avant d'être déposées sur le portail.\"}\n",
      "{'Intent': 'dqgeneral', 'Question': 'Est-ce que les métadonnées sont disponibles pour chaque jeu de données ?', 'Response': \"Oui, les métadonnées sont disponibles pour chaque jeu de données sur le portail Données Québec. Ces informations supplémentaires vous aident à comprendre le contexte et l'utilisation des données, ce qui facilite leur réutilisation.\"}\n",
      "{'Intent': 'dqgeneral', 'Question': 'Comment puis-je être informé des nouveaux jeux de données ajoutés sur le site ?', 'Response': \"Vous pouvez vous abonner au fil RSS des jeux de données les plus récents sur la page d'accueil du portail ou à une organisation principale, ainsi que des catégories de données qui vous intéressent. Vous pouvez également consulter le portail régulièrement pour découvrir les nouveaux jeux de données ajoutés.\"}\n",
      "{'Intent': 'dqgeneral', 'Question': \"Puis-je télécharger les données directement depuis l'API ?\", 'Response': \"Oui, vous pouvez télécharger les données directement depuis l'API de Données Québec. En effet, CKAN, la plateforme qui héberge le portail, propose des API qui permettent d'accéder et de télécharger les jeux de données de manière programmée ou manuelle. Vous pouvez consulter la page dédiée aux API pour en savoir plus sur les possibilités d'utilisation.\"}\n",
      "{'Intent': 'dqgeneral', 'Question': \"Y a-t-il des restrictions sur l'utilisation des données pour certains jeux de données ?\", 'Response': \"Les données partagées sur le portail Données Québec sont mises à disposition sous la licence Creative Commons 4.0, qui garantit une utilisation flexible et sans restrictions pour les données ouvertes. Cependant, certaines données peuvent être soumises à des restrictions d'utilisation spécifiques, telles que des limitations de usage commercial ou des exigences de citation. Il est important de consulter la description du jeu de données concerné avant d'utiliser les données pour obtenir plus d'informations sur les conditions d'utilisation applicables.\"}\n",
      "{'Intent': 'dqgeneral', 'Question': \"Est-ce que les données sont accessibles dans d'autres langues que le français ?\", 'Response': 'Les données sont accessibles uniquement en français sur le portail Données Québec.'}\n",
      "{'Intent': 'dqgeneral', 'Question': 'Comment puis-je visualiser les données directement sur le site avant de les télécharger ?', 'Response': 'Vous pouvez visualiser les données directement sur le site avant de les télécharger en utilisant notre fonctionnalité d\\'affichage des jeux de données. Pour cela, cliquez simplement sur le jeu de données souhaité et utilisez la barre d\\'outils située à droite de l\\'écran pour zoomer, panniquer ou afficher les légendes. Vous pouvez également utiliser la fonction \"Voir en grand\" pour visualiser les données dans une nouvelle fenêtre.'}\n",
      "{'Intent': 'dqgeneral', 'Question': \"Y a-t-il des exemples d'utilisation des données par d'autres utilisateurs ?\", 'Response': 'Les données ouvertes sont utilisées dans de nombreuses applications et domaines, telles que l\\'étude des effets du changement climatique, la recherche sur les maladies infectieuses, l\\'aménagement urbain, etc. Sur Données Québec, vous pouvez consulter les exemples d\\'utilisation des données par d\\'autres utilisateurs en consultant le portail et les différents jeux de données mis à disposition.\\n\\nVoici quelques-uns des exemples d\\'utilisation des données ouvertes sur Données Québec :\\n\\n* Étude des effets du changement climatique : Le jeu de données \"Données météorologiques\" est utilisé pour étudier les tendances climatiques et prévoir les impacts du réchauffement planétaire.\\n* Recherche sur les maladies infectieuses : Le jeu de données \"Données épidémiologiques\" est utilisé pour étudier l\\'évolution des maladies et identifier les facteurs de risque.\\n\\nPour en savoir plus sur les exemples d\\'utilisation des données ouvertes, vous pouvez consulter le portail Données Québec et les différents jeux de données mis à disposition.'}\n",
      "{'Intent': 'dqgeneral', 'Question': 'Est-ce que les données sont compatibles avec des outils de visualisation comme Tableau ou PowerBI ?', 'Response': 'Les données ouvertes sur Données Québec sont fournies dans des formats standards et compatibles avec les outils de visualisation comme Tableau ou PowerBI. De plus, le portail met à disposition un Guide de diffusion des données ouvertes qui vous aidera à préparer vos jeux de données pour une réutilisation optimale.'}\n",
      "{'Intent': 'dqgeneral', 'Question': \"Puis-je demander une extraction spécifique d'un jeu de données si je n'ai besoin que d'une partie des données ?\", 'Response': \"Oui, vous pouvez demander une extraction spécifique d'un jeu de données si vous n'avez besoin que d'une partie des données. Pour cela, veuillez contacter Données Québec et fournir les informations nécessaires sur la nature de votre demande. Vous pouvez même utiliser le formulaire d'extraction de données pour faciliter le processus.\"}\n",
      "{'Intent': 'dqgeneral', 'Question': 'Y a-t-il des jeux de données qui nécessitent une autorisation particulière pour y accéder ?', 'Response': \"Oui, certains jeux de données nécessitent une autorisation particulière pour y accéder. Il est important de vérifier les conditions d'accès spécifiques pour chaque jeu de données avant de l'utiliser. Vous pouvez consulter le portail Données Québec pour obtenir des informations sur les jeux de données qui nécessitent une autorisation particulière.\"}\n",
      "{'Intent': 'dqgeneral', 'Question': 'Est-ce que les données sont disponibles en streaming pour une utilisation en temps réel ?', 'Response': \"Les données sont disponibles sur Données Québec sous forme de jeux de données téléchargeables, mais il n'y a pas d'options de streaming pour une utilisation en temps réel. Cependant, certaines applications et services proposent des moyens de consultation temporaire ou permanente des données, comme par exemple les API (Application Programming Interface) qui permettent la récupération des données de manière programmée.\"}\n",
      "{'Intent': 'dqgeneral', 'Question': 'Comment puis-je contribuer à améliorer la qualité des données sur Données Québec ?', 'Response': \"Pour améliorer la qualité des données sur Données Québec, vous pouvez contribuer en identifiant et signalant les erreurs ou les incomplétudes dans les jeux de données. Vous pouvez également proposer de nouvelles suggestions de jeux de données qui pourraient être utiles à la communauté.\\n\\nVous pouvez également consulter le Guide de priorisation et de diffusion des données ouvertes pour vous aider à identifier les meilleures pratiques en matière de données ouvertes au Québec.\\n\\nEnfin, si vous avez des compétences spécifiques dans une domaine donné, vous pouvez partager vos connaissances avec la communauté Données Québec pour améliorer l'interprétation et l'utilisation des données.\"}\n",
      "{'Intent': 'dqgeneral', 'Question': \"Y a-t-il des événements ou des ateliers organisés autour de l'utilisation des données ?\", 'Response': \"Oui, Données Québec organise régulièrement des événements et des ateliers pour discuter de l'utilisation des données ouvertes. Vous pouvez consulter le portail Données Québec pour obtenir plus d'informations sur les événements à venir. L'un de ces événements est le Salon de la donnée, qui réunit chaque année des acteurs du monde des données pour discuter de leurs projets et partager leurs expériences.\"}\n",
      "{'Intent': 'dqgeneral', 'Question': 'Est-ce que les données sont accessibles via des requêtes SPARQL ?', 'Response': 'Les données sont accessibles via des requêtes SPARQL sur le portail Données Québec, ce qui permet une grande flexibilité et une meilleure exploitation des données ouvertes.'}\n",
      "{'Intent': 'dqgeneral', 'Question': 'Puis-je utiliser les données pour un projet de recherche universitaire ?', 'Response': \"Bien sûr ! Les données publiques proposées par Données Québec sont destinées à être réutilisées dans divers contextes, y compris les recherches universitaires. Vous pouvez librement utiliser ces données pour votre projet de recherche, sous réserve que vous respectiez les normes techniques et les conditions d'utilisation définies sur le portail. Il est important de vérifier les mentions légales et les conditions spécifiques liées à chaque jeu de données avant de l'utiliser.\"}\n",
      "{'Intent': 'dqgeneral', 'Question': \"Y a-t-il des cas d'utilisation des données dans le secteur public ?\", 'Response': \"Oui, il y a des cas d'utilisation des données dans le secteur public. Par exemple, les villes et les municipalités utilisent les données pour gérer les infrastructures urbaines, les transports en commun et la gestion des déchets. Les ministères du gouvernement du Québec utilisent également les données pour prendre des décisions éclairées sur les politiques publiques.\"}\n",
      "{'Intent': 'dqgeneral', 'Question': 'Comment puis-je signaler un jeu de données qui contient des informations sensibles ou confidentielles ?', 'Response': \"Pour signaler un jeu de données contenant des informations sensibles ou confidentielles, vous pouvez contacter Données Québec au plus tard une heure après avoir déposé le jeu de données en question. Vous pouvez envoyer un courriel à pilote@donneesquebec.ca pour informer les équipes de Données Québec du problème et demander leur aide pour résoudre l'affaire.\"}\n",
      "{'Intent': 'dqgeneral', 'Question': 'Est-ce que les données sont accessibles via des services de cartographie comme WMS ou WFS ?', 'Response': \"Les données sont accessibles via les services de cartographie comme WMS (Web Mapping Service) et WFS (Web Feature Service). Les organismes publics du gouvernement du Québec, ainsi que certaines municipalités et organisations, ont mis à disposition leurs jeux de données pour une utilisation plus large. Vous pouvez ainsi utiliser ces données pour créer des applications, des cartes ou bien d'autres produits.\"}\n",
      "{'Intent': 'dqgeneral', 'Question': 'Puis-je utiliser les données pour créer des visualisations interactives sur un site web ?', 'Response': 'Oui, vous pouvez utiliser les données pour créer des visualisations interactives sur un site web. Les outils de visualisation disponibles sur Données Québec vous permettent de créer des graphiques, des cartes et des filtres pour explorer les données de manière interactive. Vous pouvez télécharger les données et les intégrer à votre site web pour offrir une expérience utilisateur riche et immersive.'}\n",
      "{'Intent': 'dqgeneral', 'Question': 'Y a-t-il des recommandations sur les outils à utiliser pour analyser les données ?', 'Response': 'Les données ouvertes proposées par Données Québec sont disponibles sous forme de jeux de données structurés, ce qui facilite leur analyse. Pour analyser ces données, vous pouvez utiliser des outils tels que Tableau, Power BI, QlikView, R, Python, Excel, entre autres. Il est important de choisir un outil en fonction des besoins et des compétences de votre équipe pour obtenir les meilleurs résultats.'}\n",
      "{'Intent': 'dqgeneral', 'Question': 'Est-ce que les données sont disponibles en bulk pour un téléchargement complet ?', 'Response': 'Les données sont disponibles sous forme de jeux de données complets pour un téléchargement massif. Données Québec propose une variété de formats de fichiers, notamment CSV et JSON, qui permettent de télécharger des données en bulk. Vous pouvez consulter le portail Données Québec pour découvrir les différents jeux de données disponibles et télécharger les informations qui vous intéressent.'}\n",
      "{'Intent': 'dqgeneral', 'Question': \"Comment puis-je partager avec la communauté un projet que j'ai réalisé en utilisant les données de Données Québec ?\", 'Response': 'Vous pouvez partager votre projet avec la communauté en soumettant une publication sur le portail Données Québec. Vous pouvez ainsi présenter vos résultats, partaguer vos découvertes et recueillir des commentaires de la communauté. Pour ce faire, vous devez remplir un formulaire de publication de projet qui contient des informations sur votre projet, y compris les données utilisées et les résultats obtenus. Une fois soumis, votre projet sera accessible au public et pourra être consulté par les autres utilisateurs du portail.'}\n"
     ]
    }
   ],
   "source": [
    "jsonl = []\n",
    "with open(\"faq_results.jsonl\", \"w\", encoding=\"utf8\") as f:\n",
    "    for question in questions:\n",
    "        response = engine.query(question)\n",
    "        item = {\"Intent\": \"dqgeneral\", \"Question\": question, \"Response\": response.response}\n",
    "        print(item)\n",
    "        f.write(f\"{item}\\n\")\n",
    "        \n"
   ]
  }
 ],
 "metadata": {
  "kernelspec": {
   "display_name": "Python 3",
   "language": "python",
   "name": "python3"
  },
  "language_info": {
   "codemirror_mode": {
    "name": "ipython",
    "version": 3
   },
   "file_extension": ".py",
   "mimetype": "text/x-python",
   "name": "python",
   "nbconvert_exporter": "python",
   "pygments_lexer": "ipython3",
   "version": "3.11.4"
  }
 },
 "nbformat": 4,
 "nbformat_minor": 2
}
